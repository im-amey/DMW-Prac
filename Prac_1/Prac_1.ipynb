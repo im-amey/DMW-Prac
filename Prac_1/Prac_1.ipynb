{
 "cells": [
  {
   "cell_type": "markdown",
   "id": "412578a2",
   "metadata": {},
   "source": [
    "## Merging & Transforming Datasets"
   ]
  },
  {
   "cell_type": "markdown",
   "id": "3a17deb8",
   "metadata": {},
   "source": [
    "### Q1"
   ]
  },
  {
   "cell_type": "code",
   "execution_count": 1,
   "id": "78a98618",
   "metadata": {},
   "outputs": [],
   "source": [
    "# Importing the Modules\n",
    "import pandas as pd"
   ]
  },
  {
   "cell_type": "code",
   "execution_count": 2,
   "id": "7f160c4c",
   "metadata": {},
   "outputs": [
    {
     "data": {
      "text/html": [
       "<div>\n",
       "<style scoped>\n",
       "    .dataframe tbody tr th:only-of-type {\n",
       "        vertical-align: middle;\n",
       "    }\n",
       "\n",
       "    .dataframe tbody tr th {\n",
       "        vertical-align: top;\n",
       "    }\n",
       "\n",
       "    .dataframe thead th {\n",
       "        text-align: right;\n",
       "    }\n",
       "</style>\n",
       "<table border=\"1\" class=\"dataframe\">\n",
       "  <thead>\n",
       "    <tr style=\"text-align: right;\">\n",
       "      <th></th>\n",
       "      <th>Transaction ID</th>\n",
       "      <th>Date</th>\n",
       "      <th>Customer ID</th>\n",
       "      <th>Product ID</th>\n",
       "      <th>Quantity</th>\n",
       "      <th>Unit Price</th>\n",
       "      <th>Total Price</th>\n",
       "    </tr>\n",
       "  </thead>\n",
       "  <tbody>\n",
       "    <tr>\n",
       "      <th>0</th>\n",
       "      <td>TXN0001</td>\n",
       "      <td>15-07-2024</td>\n",
       "      <td>CUST0040</td>\n",
       "      <td>PID001</td>\n",
       "      <td>10</td>\n",
       "      <td>200</td>\n",
       "      <td>2000.0</td>\n",
       "    </tr>\n",
       "    <tr>\n",
       "      <th>1</th>\n",
       "      <td>TXN0002</td>\n",
       "      <td>26-10-2024</td>\n",
       "      <td>CUST0033</td>\n",
       "      <td>PID005</td>\n",
       "      <td>10</td>\n",
       "      <td>350</td>\n",
       "      <td>3500.0</td>\n",
       "    </tr>\n",
       "    <tr>\n",
       "      <th>2</th>\n",
       "      <td>TXN0003</td>\n",
       "      <td>30-07-2024</td>\n",
       "      <td>CUST0012</td>\n",
       "      <td>PID006</td>\n",
       "      <td>7</td>\n",
       "      <td>500</td>\n",
       "      <td>NaN</td>\n",
       "    </tr>\n",
       "    <tr>\n",
       "      <th>3</th>\n",
       "      <td>TXN0004</td>\n",
       "      <td>22-12-2024</td>\n",
       "      <td>CUST0010</td>\n",
       "      <td>PID007</td>\n",
       "      <td>6</td>\n",
       "      <td>100</td>\n",
       "      <td>600.0</td>\n",
       "    </tr>\n",
       "    <tr>\n",
       "      <th>4</th>\n",
       "      <td>TXN0005</td>\n",
       "      <td>10-04-2024</td>\n",
       "      <td>CUST0044</td>\n",
       "      <td>PID003</td>\n",
       "      <td>3</td>\n",
       "      <td>400</td>\n",
       "      <td>1200.0</td>\n",
       "    </tr>\n",
       "  </tbody>\n",
       "</table>\n",
       "</div>"
      ],
      "text/plain": [
       "  Transaction ID        Date Customer ID Product ID  Quantity  Unit Price  \\\n",
       "0        TXN0001  15-07-2024    CUST0040     PID001        10         200   \n",
       "1        TXN0002  26-10-2024    CUST0033     PID005        10         350   \n",
       "2        TXN0003  30-07-2024    CUST0012     PID006         7         500   \n",
       "3        TXN0004  22-12-2024    CUST0010     PID007         6         100   \n",
       "4        TXN0005  10-04-2024    CUST0044     PID003         3         400   \n",
       "\n",
       "   Total Price  \n",
       "0       2000.0  \n",
       "1       3500.0  \n",
       "2          NaN  \n",
       "3        600.0  \n",
       "4       1200.0  "
      ]
     },
     "execution_count": 2,
     "metadata": {},
     "output_type": "execute_result"
    }
   ],
   "source": [
    "sales_data = pd.read_csv('../DMW_DataSets/sales_data.csv',)\n",
    "sales_data.head()"
   ]
  },
  {
   "cell_type": "code",
   "execution_count": 3,
   "id": "9483b5ad",
   "metadata": {},
   "outputs": [
    {
     "data": {
      "text/html": [
       "<div>\n",
       "<style scoped>\n",
       "    .dataframe tbody tr th:only-of-type {\n",
       "        vertical-align: middle;\n",
       "    }\n",
       "\n",
       "    .dataframe tbody tr th {\n",
       "        vertical-align: top;\n",
       "    }\n",
       "\n",
       "    .dataframe thead th {\n",
       "        text-align: right;\n",
       "    }\n",
       "</style>\n",
       "<table border=\"1\" class=\"dataframe\">\n",
       "  <thead>\n",
       "    <tr style=\"text-align: right;\">\n",
       "      <th></th>\n",
       "      <th>Customer ID</th>\n",
       "      <th>Name</th>\n",
       "      <th>Email</th>\n",
       "      <th>Phone Number</th>\n",
       "      <th>Address</th>\n",
       "    </tr>\n",
       "  </thead>\n",
       "  <tbody>\n",
       "    <tr>\n",
       "      <th>0</th>\n",
       "      <td>CUST0001</td>\n",
       "      <td>Daniel Brown</td>\n",
       "      <td>NaN</td>\n",
       "      <td>(554) 888-8063</td>\n",
       "      <td>516 Elm St, Hilltop, TX 79264</td>\n",
       "    </tr>\n",
       "    <tr>\n",
       "      <th>1</th>\n",
       "      <td>CUST0002</td>\n",
       "      <td>Grace Garcia</td>\n",
       "      <td>grace.garcia@outlook.com</td>\n",
       "      <td>(843) 751-8415</td>\n",
       "      <td>130 Main St, Riverside, TX 11075</td>\n",
       "    </tr>\n",
       "    <tr>\n",
       "      <th>2</th>\n",
       "      <td>CUST0003</td>\n",
       "      <td>Charlie Davis</td>\n",
       "      <td>charlie.davis@yahoo.com</td>\n",
       "      <td>(192) 638-2389</td>\n",
       "      <td>717 Main St, Riverside, FL 19334</td>\n",
       "    </tr>\n",
       "    <tr>\n",
       "      <th>3</th>\n",
       "      <td>CUST0004</td>\n",
       "      <td>Alice Brown</td>\n",
       "      <td>alice.brown@outlook.com</td>\n",
       "      <td>(373) 684-9222</td>\n",
       "      <td>368 Cedar St, Townsville, OH 28036</td>\n",
       "    </tr>\n",
       "    <tr>\n",
       "      <th>4</th>\n",
       "      <td>CUST0005</td>\n",
       "      <td>Emily Johnson</td>\n",
       "      <td>emily.johnson@gmail.com</td>\n",
       "      <td>(856) 557-6464</td>\n",
       "      <td>679 Oak St, Cityville, CA 61428</td>\n",
       "    </tr>\n",
       "  </tbody>\n",
       "</table>\n",
       "</div>"
      ],
      "text/plain": [
       "  Customer ID           Name                     Email    Phone Number  \\\n",
       "0    CUST0001   Daniel Brown                       NaN  (554) 888-8063   \n",
       "1    CUST0002   Grace Garcia  grace.garcia@outlook.com  (843) 751-8415   \n",
       "2    CUST0003  Charlie Davis   charlie.davis@yahoo.com  (192) 638-2389   \n",
       "3    CUST0004    Alice Brown   alice.brown@outlook.com  (373) 684-9222   \n",
       "4    CUST0005  Emily Johnson   emily.johnson@gmail.com  (856) 557-6464   \n",
       "\n",
       "                              Address  \n",
       "0       516 Elm St, Hilltop, TX 79264  \n",
       "1    130 Main St, Riverside, TX 11075  \n",
       "2    717 Main St, Riverside, FL 19334  \n",
       "3  368 Cedar St, Townsville, OH 28036  \n",
       "4     679 Oak St, Cityville, CA 61428  "
      ]
     },
     "execution_count": 3,
     "metadata": {},
     "output_type": "execute_result"
    }
   ],
   "source": [
    "customer_data = pd.read_csv('../DMW_DataSets/customer_data.csv')\n",
    "customer_data.head()"
   ]
  },
  {
   "cell_type": "code",
   "execution_count": 4,
   "id": "5ae0ac16",
   "metadata": {},
   "outputs": [
    {
     "data": {
      "text/html": [
       "<div>\n",
       "<style scoped>\n",
       "    .dataframe tbody tr th:only-of-type {\n",
       "        vertical-align: middle;\n",
       "    }\n",
       "\n",
       "    .dataframe tbody tr th {\n",
       "        vertical-align: top;\n",
       "    }\n",
       "\n",
       "    .dataframe thead th {\n",
       "        text-align: right;\n",
       "    }\n",
       "</style>\n",
       "<table border=\"1\" class=\"dataframe\">\n",
       "  <thead>\n",
       "    <tr style=\"text-align: right;\">\n",
       "      <th></th>\n",
       "      <th>Transaction ID</th>\n",
       "      <th>Date</th>\n",
       "      <th>Customer ID</th>\n",
       "      <th>Product ID</th>\n",
       "      <th>Quantity</th>\n",
       "      <th>Unit Price</th>\n",
       "      <th>Total Price</th>\n",
       "      <th>Name</th>\n",
       "      <th>Email</th>\n",
       "      <th>Phone Number</th>\n",
       "      <th>Address</th>\n",
       "    </tr>\n",
       "  </thead>\n",
       "  <tbody>\n",
       "    <tr>\n",
       "      <th>0</th>\n",
       "      <td>TXN0001</td>\n",
       "      <td>15-07-2024</td>\n",
       "      <td>CUST0040</td>\n",
       "      <td>PID001</td>\n",
       "      <td>10</td>\n",
       "      <td>200</td>\n",
       "      <td>2000.0</td>\n",
       "      <td>Alice Miller</td>\n",
       "      <td>NaN</td>\n",
       "      <td>(722) 885-6293</td>\n",
       "      <td>624 Oak St, Riverside, FL 77884</td>\n",
       "    </tr>\n",
       "    <tr>\n",
       "      <th>1</th>\n",
       "      <td>TXN0017</td>\n",
       "      <td>29-09-2024</td>\n",
       "      <td>CUST0040</td>\n",
       "      <td>PID004</td>\n",
       "      <td>4</td>\n",
       "      <td>200</td>\n",
       "      <td>800.0</td>\n",
       "      <td>Alice Miller</td>\n",
       "      <td>NaN</td>\n",
       "      <td>(722) 885-6293</td>\n",
       "      <td>624 Oak St, Riverside, FL 77884</td>\n",
       "    </tr>\n",
       "    <tr>\n",
       "      <th>2</th>\n",
       "      <td>TXN0002</td>\n",
       "      <td>26-10-2024</td>\n",
       "      <td>CUST0033</td>\n",
       "      <td>PID005</td>\n",
       "      <td>10</td>\n",
       "      <td>350</td>\n",
       "      <td>3500.0</td>\n",
       "      <td>John Smith</td>\n",
       "      <td>john.smith@outlook.com</td>\n",
       "      <td>(733) 299-1696</td>\n",
       "      <td>111 Maple St, Hilltop, OH 97521</td>\n",
       "    </tr>\n",
       "    <tr>\n",
       "      <th>3</th>\n",
       "      <td>TXN0099</td>\n",
       "      <td>05-08-2024</td>\n",
       "      <td>CUST0033</td>\n",
       "      <td>PID004</td>\n",
       "      <td>8</td>\n",
       "      <td>150</td>\n",
       "      <td>1200.0</td>\n",
       "      <td>John Smith</td>\n",
       "      <td>john.smith@outlook.com</td>\n",
       "      <td>(733) 299-1696</td>\n",
       "      <td>111 Maple St, Hilltop, OH 97521</td>\n",
       "    </tr>\n",
       "    <tr>\n",
       "      <th>4</th>\n",
       "      <td>TXN0003</td>\n",
       "      <td>30-07-2024</td>\n",
       "      <td>CUST0012</td>\n",
       "      <td>PID006</td>\n",
       "      <td>7</td>\n",
       "      <td>500</td>\n",
       "      <td>NaN</td>\n",
       "      <td>Bob Johnson</td>\n",
       "      <td>bob.johnson@outlook.com</td>\n",
       "      <td>(324) 285-1102</td>\n",
       "      <td>273 Cedar St, Sunset, MI 31662</td>\n",
       "    </tr>\n",
       "  </tbody>\n",
       "</table>\n",
       "</div>"
      ],
      "text/plain": [
       "  Transaction ID        Date Customer ID Product ID  Quantity  Unit Price  \\\n",
       "0        TXN0001  15-07-2024    CUST0040     PID001        10         200   \n",
       "1        TXN0017  29-09-2024    CUST0040     PID004         4         200   \n",
       "2        TXN0002  26-10-2024    CUST0033     PID005        10         350   \n",
       "3        TXN0099  05-08-2024    CUST0033     PID004         8         150   \n",
       "4        TXN0003  30-07-2024    CUST0012     PID006         7         500   \n",
       "\n",
       "   Total Price          Name                    Email    Phone Number  \\\n",
       "0       2000.0  Alice Miller                      NaN  (722) 885-6293   \n",
       "1        800.0  Alice Miller                      NaN  (722) 885-6293   \n",
       "2       3500.0    John Smith   john.smith@outlook.com  (733) 299-1696   \n",
       "3       1200.0    John Smith   john.smith@outlook.com  (733) 299-1696   \n",
       "4          NaN   Bob Johnson  bob.johnson@outlook.com  (324) 285-1102   \n",
       "\n",
       "                           Address  \n",
       "0  624 Oak St, Riverside, FL 77884  \n",
       "1  624 Oak St, Riverside, FL 77884  \n",
       "2  111 Maple St, Hilltop, OH 97521  \n",
       "3  111 Maple St, Hilltop, OH 97521  \n",
       "4   273 Cedar St, Sunset, MI 31662  "
      ]
     },
     "execution_count": 4,
     "metadata": {},
     "output_type": "execute_result"
    }
   ],
   "source": [
    "# Merge the Datasets\n",
    "merged_data = pd.merge(sales_data, customer_data, on='Customer ID', how='inner')\n",
    "merged_data.head()"
   ]
  },
  {
   "cell_type": "code",
   "execution_count": 5,
   "id": "23a96fb5",
   "metadata": {},
   "outputs": [
    {
     "data": {
      "text/plain": [
       "Index(['Transaction ID', 'Transaction Date', 'Customer ID', 'Product ID',\n",
       "       'Quantity Sold', 'Unit Price', 'Total Sales Amount', 'Customer Name',\n",
       "       'Customer Email', 'Customer Phone', 'Customer Address'],\n",
       "      dtype='object')"
      ]
     },
     "execution_count": 5,
     "metadata": {},
     "output_type": "execute_result"
    }
   ],
   "source": [
    "merged_data.rename(columns={\n",
    "    'Date' : 'Transaction Date',\n",
    "    'Quantity' : 'Quantity Sold',\n",
    "    'Total Price' : 'Total Sales Amount',\n",
    "    'Name' : 'Customer Name',\n",
    "    'Email' : 'Customer Email',\n",
    "    'Phone Number' : 'Customer Phone',\n",
    "    'Address' : 'Customer Address'\n",
    "},inplace=True)\n",
    "merged_data.columns"
   ]
  },
  {
   "cell_type": "code",
   "execution_count": 6,
   "id": "94c41753",
   "metadata": {},
   "outputs": [],
   "source": [
    "merged_data.dropna(subset=['Total Sales Amount'],inplace=True)\n",
    "merged_data['Customer Email'].fillna('Unknown',inplace=True)"
   ]
  },
  {
   "cell_type": "code",
   "execution_count": 7,
   "id": "7dc02349",
   "metadata": {},
   "outputs": [],
   "source": [
    "# merged_data['Total Sales Amount'].value_counts().sum()"
   ]
  },
  {
   "cell_type": "code",
   "execution_count": 8,
   "id": "66f21811",
   "metadata": {},
   "outputs": [],
   "source": [
    "# merged_data.head(10)"
   ]
  },
  {
   "cell_type": "code",
   "execution_count": 9,
   "id": "bf3decf2",
   "metadata": {},
   "outputs": [
    {
     "name": "stdout",
     "output_type": "stream",
     "text": [
      "Transaction ID                object\n",
      "Transaction Date      datetime64[ns]\n",
      "Customer ID                   object\n",
      "Product ID                    object\n",
      "Quantity Sold                  int64\n",
      "Unit Price                     int64\n",
      "Total Sales Amount           float64\n",
      "Customer Name                 object\n",
      "Customer Email                object\n",
      "Customer Phone                object\n",
      "Customer Address              object\n",
      "dtype: object\n"
     ]
    },
    {
     "name": "stderr",
     "output_type": "stream",
     "text": [
      "C:\\Users\\Yogesh Tatavdekar\\AppData\\Local\\Temp\\ipykernel_16220\\1869377055.py:1: UserWarning: Parsing dates in %d-%m-%Y format when dayfirst=False (the default) was specified. Pass `dayfirst=True` or specify a format to silence this warning.\n",
      "  merged_data['Transaction Date'] = pd.to_datetime(merged_data['Transaction Date'])\n"
     ]
    }
   ],
   "source": [
    "merged_data['Transaction Date'] = pd.to_datetime(merged_data['Transaction Date'])\n",
    "print(merged_data.dtypes)"
   ]
  },
  {
   "cell_type": "code",
   "execution_count": 10,
   "id": "a1c2f2b5",
   "metadata": {},
   "outputs": [],
   "source": [
    "total_sales_by_customer = merged_data.groupby(['Customer ID','Customer Name'])[['Total Sales Amount','Quantity Sold']].sum()\n",
    "sales_by_product = merged_data.groupby(['Product ID'])[['Total Sales Amount', 'Quantity Sold']].sum()"
   ]
  },
  {
   "cell_type": "code",
   "execution_count": 11,
   "id": "7316da98",
   "metadata": {},
   "outputs": [
    {
     "name": "stdout",
     "output_type": "stream",
     "text": [
      "                   Total Sales Amount\n",
      "Transaction Month                    \n",
      "2024-01                       11550.0\n",
      "2024-02                       24150.0\n",
      "2024-03                        8400.0\n",
      "2024-04                       10900.0\n",
      "2024-05                       11050.0\n",
      "2024-06                        8550.0\n",
      "2024-07                        6850.0\n",
      "2024-08                        8800.0\n",
      "2024-09                        3450.0\n",
      "2024-10                        9300.0\n",
      "2024-11                       19400.0\n",
      "2024-12                       17300.0\n"
     ]
    }
   ],
   "source": [
    "merged_data['Transaction Month'] = merged_data['Transaction Date'].dt.to_period('M')\n",
    "sales_by_month = merged_data.groupby('Transaction Month')[['Total Sales Amount']].sum()\n",
    "print(sales_by_month)"
   ]
  },
  {
   "cell_type": "code",
   "execution_count": 12,
   "id": "6e05768d",
   "metadata": {},
   "outputs": [
    {
     "name": "stdout",
     "output_type": "stream",
     "text": [
      "Customer ID\n",
      "CUST0001    1\n",
      "CUST0002    1\n",
      "CUST0003    1\n",
      "CUST0004    1\n",
      "CUST0005    1\n",
      "CUST0006    2\n",
      "CUST0007    2\n",
      "CUST0008    1\n",
      "CUST0009    2\n",
      "CUST0010    2\n",
      "CUST0011    1\n",
      "CUST0012    2\n",
      "CUST0013    3\n",
      "CUST0014    3\n",
      "CUST0015    2\n",
      "CUST0016    2\n",
      "CUST0017    4\n",
      "CUST0019    3\n",
      "CUST0020    1\n",
      "CUST0021    1\n",
      "CUST0022    3\n",
      "CUST0023    2\n",
      "CUST0024    3\n",
      "CUST0025    3\n",
      "CUST0026    5\n",
      "CUST0027    1\n",
      "CUST0028    2\n",
      "CUST0030    6\n",
      "CUST0031    2\n",
      "CUST0033    2\n",
      "CUST0034    1\n",
      "CUST0035    4\n",
      "CUST0036    1\n",
      "CUST0037    2\n",
      "CUST0039    2\n",
      "CUST0040    2\n",
      "CUST0041    1\n",
      "CUST0042    2\n",
      "CUST0043    7\n",
      "CUST0044    4\n",
      "CUST0045    2\n",
      "CUST0046    2\n",
      "CUST0049    1\n",
      "CUST0050    1\n",
      "Name: Transaction ID, dtype: int64\n"
     ]
    }
   ],
   "source": [
    "transaction_per_customer = merged_data.groupby('Customer ID')['Transaction ID'].nunique()\n",
    "print(transaction_per_customer)"
   ]
  },
  {
   "cell_type": "code",
   "execution_count": 13,
   "id": "c73c73f6",
   "metadata": {},
   "outputs": [
    {
     "data": {
      "text/plain": [
       "100.0"
      ]
     },
     "execution_count": 13,
     "metadata": {},
     "output_type": "execute_result"
    }
   ],
   "source": [
    "merged_data['Total Sales Amount'].min()"
   ]
  },
  {
   "cell_type": "code",
   "execution_count": 14,
   "id": "34d7be00",
   "metadata": {},
   "outputs": [
    {
     "data": {
      "text/plain": [
       "4500.0"
      ]
     },
     "execution_count": 14,
     "metadata": {},
     "output_type": "execute_result"
    }
   ],
   "source": [
    "merged_data['Total Sales Amount'].max()"
   ]
  },
  {
   "cell_type": "code",
   "execution_count": 15,
   "id": "f887db40",
   "metadata": {},
   "outputs": [],
   "source": [
    "merged_data.to_csv('../DMW_DataSets/merged_data.csv',index=False)"
   ]
  },
  {
   "cell_type": "markdown",
   "id": "22ec6d40",
   "metadata": {},
   "source": [
    "### Q2"
   ]
  },
  {
   "cell_type": "code",
   "execution_count": 16,
   "id": "80ac1aa0",
   "metadata": {},
   "outputs": [],
   "source": [
    "# Importing the Modules\n",
    "import pandas as pd"
   ]
  },
  {
   "cell_type": "code",
   "execution_count": 17,
   "id": "1fa78651",
   "metadata": {},
   "outputs": [],
   "source": [
    "employee_data = {\n",
    "    'employee_id' : [101,102,103,104],\n",
    "    'name' : ['Alice', 'Bob', 'Charlie', 'Dravid'],\n",
    "    'department_id' : [1,2,1,3],\n",
    "    'position' : ['Developer', 'Manager', 'Developer', 'HR specialist'],\n",
    "    'hire_date' : ['2020-01-15','2023-08-23','2019-03-12','2021-07-01'],\n",
    "    'salary' : [80000,95000,85000,70000]\n",
    "}\n",
    "\n",
    "department_data = {\n",
    "    'department_id' : [1,2,3],\n",
    "    'department_name' : ['IT','Marketing', 'HR'],\n",
    "    'manager_id' : [105,106,107],\n",
    "    'location' : ['NewYork','Chicago','SanFrancisco']\n",
    "}"
   ]
  },
  {
   "cell_type": "code",
   "execution_count": 18,
   "id": "04edaefc",
   "metadata": {},
   "outputs": [],
   "source": [
    "df_employee = pd.DataFrame(employee_data)\n",
    "df_department = pd.DataFrame(department_data)"
   ]
  },
  {
   "cell_type": "code",
   "execution_count": 19,
   "id": "194b4586",
   "metadata": {},
   "outputs": [
    {
     "data": {
      "text/html": [
       "<div>\n",
       "<style scoped>\n",
       "    .dataframe tbody tr th:only-of-type {\n",
       "        vertical-align: middle;\n",
       "    }\n",
       "\n",
       "    .dataframe tbody tr th {\n",
       "        vertical-align: top;\n",
       "    }\n",
       "\n",
       "    .dataframe thead th {\n",
       "        text-align: right;\n",
       "    }\n",
       "</style>\n",
       "<table border=\"1\" class=\"dataframe\">\n",
       "  <thead>\n",
       "    <tr style=\"text-align: right;\">\n",
       "      <th></th>\n",
       "      <th>employee_id</th>\n",
       "      <th>name</th>\n",
       "      <th>department_id</th>\n",
       "      <th>position</th>\n",
       "      <th>hire_date</th>\n",
       "      <th>salary</th>\n",
       "      <th>department_name</th>\n",
       "      <th>manager_id</th>\n",
       "      <th>location</th>\n",
       "    </tr>\n",
       "  </thead>\n",
       "  <tbody>\n",
       "    <tr>\n",
       "      <th>0</th>\n",
       "      <td>101</td>\n",
       "      <td>Alice</td>\n",
       "      <td>1</td>\n",
       "      <td>Developer</td>\n",
       "      <td>2020-01-15</td>\n",
       "      <td>80000</td>\n",
       "      <td>IT</td>\n",
       "      <td>105</td>\n",
       "      <td>NewYork</td>\n",
       "    </tr>\n",
       "    <tr>\n",
       "      <th>1</th>\n",
       "      <td>102</td>\n",
       "      <td>Bob</td>\n",
       "      <td>2</td>\n",
       "      <td>Manager</td>\n",
       "      <td>2023-08-23</td>\n",
       "      <td>95000</td>\n",
       "      <td>Marketing</td>\n",
       "      <td>106</td>\n",
       "      <td>Chicago</td>\n",
       "    </tr>\n",
       "    <tr>\n",
       "      <th>2</th>\n",
       "      <td>103</td>\n",
       "      <td>Charlie</td>\n",
       "      <td>1</td>\n",
       "      <td>Developer</td>\n",
       "      <td>2019-03-12</td>\n",
       "      <td>85000</td>\n",
       "      <td>IT</td>\n",
       "      <td>105</td>\n",
       "      <td>NewYork</td>\n",
       "    </tr>\n",
       "    <tr>\n",
       "      <th>3</th>\n",
       "      <td>104</td>\n",
       "      <td>Dravid</td>\n",
       "      <td>3</td>\n",
       "      <td>HR specialist</td>\n",
       "      <td>2021-07-01</td>\n",
       "      <td>70000</td>\n",
       "      <td>HR</td>\n",
       "      <td>107</td>\n",
       "      <td>SanFrancisco</td>\n",
       "    </tr>\n",
       "  </tbody>\n",
       "</table>\n",
       "</div>"
      ],
      "text/plain": [
       "   employee_id     name  department_id       position   hire_date  salary  \\\n",
       "0          101    Alice              1      Developer  2020-01-15   80000   \n",
       "1          102      Bob              2        Manager  2023-08-23   95000   \n",
       "2          103  Charlie              1      Developer  2019-03-12   85000   \n",
       "3          104   Dravid              3  HR specialist  2021-07-01   70000   \n",
       "\n",
       "  department_name  manager_id      location  \n",
       "0              IT         105       NewYork  \n",
       "1       Marketing         106       Chicago  \n",
       "2              IT         105       NewYork  \n",
       "3              HR         107  SanFrancisco  "
      ]
     },
     "execution_count": 19,
     "metadata": {},
     "output_type": "execute_result"
    }
   ],
   "source": [
    "df_merged = pd.merge(df_employee, df_department, on='department_id', how='left')\n",
    "df_merged"
   ]
  },
  {
   "cell_type": "code",
   "execution_count": 20,
   "id": "2ac57353",
   "metadata": {},
   "outputs": [
    {
     "name": "stdout",
     "output_type": "stream",
     "text": [
      "\n",
      "DataFrame after dropping rows with missing values: \n"
     ]
    },
    {
     "data": {
      "text/html": [
       "<div>\n",
       "<style scoped>\n",
       "    .dataframe tbody tr th:only-of-type {\n",
       "        vertical-align: middle;\n",
       "    }\n",
       "\n",
       "    .dataframe tbody tr th {\n",
       "        vertical-align: top;\n",
       "    }\n",
       "\n",
       "    .dataframe thead th {\n",
       "        text-align: right;\n",
       "    }\n",
       "</style>\n",
       "<table border=\"1\" class=\"dataframe\">\n",
       "  <thead>\n",
       "    <tr style=\"text-align: right;\">\n",
       "      <th></th>\n",
       "      <th>employee_id</th>\n",
       "      <th>name</th>\n",
       "      <th>department_id</th>\n",
       "      <th>position</th>\n",
       "      <th>hire_date</th>\n",
       "      <th>salary</th>\n",
       "      <th>department_name</th>\n",
       "      <th>manager_id</th>\n",
       "      <th>location</th>\n",
       "    </tr>\n",
       "  </thead>\n",
       "  <tbody>\n",
       "    <tr>\n",
       "      <th>0</th>\n",
       "      <td>101</td>\n",
       "      <td>Alice</td>\n",
       "      <td>1</td>\n",
       "      <td>Developer</td>\n",
       "      <td>2020-01-15</td>\n",
       "      <td>80000</td>\n",
       "      <td>IT</td>\n",
       "      <td>105</td>\n",
       "      <td>NewYork</td>\n",
       "    </tr>\n",
       "    <tr>\n",
       "      <th>1</th>\n",
       "      <td>102</td>\n",
       "      <td>Bob</td>\n",
       "      <td>2</td>\n",
       "      <td>Manager</td>\n",
       "      <td>2023-08-23</td>\n",
       "      <td>95000</td>\n",
       "      <td>Marketing</td>\n",
       "      <td>106</td>\n",
       "      <td>Chicago</td>\n",
       "    </tr>\n",
       "    <tr>\n",
       "      <th>2</th>\n",
       "      <td>103</td>\n",
       "      <td>Charlie</td>\n",
       "      <td>1</td>\n",
       "      <td>Developer</td>\n",
       "      <td>2019-03-12</td>\n",
       "      <td>85000</td>\n",
       "      <td>IT</td>\n",
       "      <td>105</td>\n",
       "      <td>NewYork</td>\n",
       "    </tr>\n",
       "    <tr>\n",
       "      <th>3</th>\n",
       "      <td>104</td>\n",
       "      <td>Dravid</td>\n",
       "      <td>3</td>\n",
       "      <td>HR specialist</td>\n",
       "      <td>2021-07-01</td>\n",
       "      <td>70000</td>\n",
       "      <td>HR</td>\n",
       "      <td>107</td>\n",
       "      <td>SanFrancisco</td>\n",
       "    </tr>\n",
       "  </tbody>\n",
       "</table>\n",
       "</div>"
      ],
      "text/plain": [
       "   employee_id     name  department_id       position   hire_date  salary  \\\n",
       "0          101    Alice              1      Developer  2020-01-15   80000   \n",
       "1          102      Bob              2        Manager  2023-08-23   95000   \n",
       "2          103  Charlie              1      Developer  2019-03-12   85000   \n",
       "3          104   Dravid              3  HR specialist  2021-07-01   70000   \n",
       "\n",
       "  department_name  manager_id      location  \n",
       "0              IT         105       NewYork  \n",
       "1       Marketing         106       Chicago  \n",
       "2              IT         105       NewYork  \n",
       "3              HR         107  SanFrancisco  "
      ]
     },
     "execution_count": 20,
     "metadata": {},
     "output_type": "execute_result"
    }
   ],
   "source": [
    "df_cleaned = df_merged.dropna()\n",
    "print(\"\\nDataFrame after dropping rows with missing values: \")\n",
    "df_cleaned"
   ]
  },
  {
   "cell_type": "code",
   "execution_count": 21,
   "id": "52765c74",
   "metadata": {},
   "outputs": [],
   "source": [
    "df_merged['hire_date'] = pd.to_datetime(df_merged['hire_date'])\n",
    "\n",
    "df_merged['years_of_service'] = (pd.to_datetime('today') - df_merged['hire_date']).dt.days // 365"
   ]
  },
  {
   "cell_type": "code",
   "execution_count": 22,
   "id": "d309d8f0",
   "metadata": {},
   "outputs": [
    {
     "data": {
      "text/html": [
       "<div>\n",
       "<style scoped>\n",
       "    .dataframe tbody tr th:only-of-type {\n",
       "        vertical-align: middle;\n",
       "    }\n",
       "\n",
       "    .dataframe tbody tr th {\n",
       "        vertical-align: top;\n",
       "    }\n",
       "\n",
       "    .dataframe thead th {\n",
       "        text-align: right;\n",
       "    }\n",
       "</style>\n",
       "<table border=\"1\" class=\"dataframe\">\n",
       "  <thead>\n",
       "    <tr style=\"text-align: right;\">\n",
       "      <th></th>\n",
       "      <th>department_name</th>\n",
       "      <th>total_salary</th>\n",
       "    </tr>\n",
       "  </thead>\n",
       "  <tbody>\n",
       "    <tr>\n",
       "      <th>0</th>\n",
       "      <td>HR</td>\n",
       "      <td>70000</td>\n",
       "    </tr>\n",
       "    <tr>\n",
       "      <th>1</th>\n",
       "      <td>IT</td>\n",
       "      <td>165000</td>\n",
       "    </tr>\n",
       "    <tr>\n",
       "      <th>2</th>\n",
       "      <td>Marketing</td>\n",
       "      <td>95000</td>\n",
       "    </tr>\n",
       "  </tbody>\n",
       "</table>\n",
       "</div>"
      ],
      "text/plain": [
       "  department_name  total_salary\n",
       "0              HR         70000\n",
       "1              IT        165000\n",
       "2       Marketing         95000"
      ]
     },
     "execution_count": 22,
     "metadata": {},
     "output_type": "execute_result"
    }
   ],
   "source": [
    "total_salary = df_merged.groupby('department_name')['salary'].sum().reset_index()\n",
    "total_salary.rename(columns={'salary':'total_salary'}, inplace=True)\n",
    "total_salary"
   ]
  },
  {
   "cell_type": "code",
   "execution_count": 23,
   "id": "44546425",
   "metadata": {},
   "outputs": [
    {
     "data": {
      "text/html": [
       "<div>\n",
       "<style scoped>\n",
       "    .dataframe tbody tr th:only-of-type {\n",
       "        vertical-align: middle;\n",
       "    }\n",
       "\n",
       "    .dataframe tbody tr th {\n",
       "        vertical-align: top;\n",
       "    }\n",
       "\n",
       "    .dataframe thead th {\n",
       "        text-align: right;\n",
       "    }\n",
       "</style>\n",
       "<table border=\"1\" class=\"dataframe\">\n",
       "  <thead>\n",
       "    <tr style=\"text-align: right;\">\n",
       "      <th></th>\n",
       "      <th>department_name</th>\n",
       "      <th>max</th>\n",
       "      <th>min</th>\n",
       "    </tr>\n",
       "  </thead>\n",
       "  <tbody>\n",
       "    <tr>\n",
       "      <th>0</th>\n",
       "      <td>HR</td>\n",
       "      <td>70000</td>\n",
       "      <td>70000</td>\n",
       "    </tr>\n",
       "    <tr>\n",
       "      <th>1</th>\n",
       "      <td>IT</td>\n",
       "      <td>85000</td>\n",
       "      <td>80000</td>\n",
       "    </tr>\n",
       "    <tr>\n",
       "      <th>2</th>\n",
       "      <td>Marketing</td>\n",
       "      <td>95000</td>\n",
       "      <td>95000</td>\n",
       "    </tr>\n",
       "  </tbody>\n",
       "</table>\n",
       "</div>"
      ],
      "text/plain": [
       "  department_name    max    min\n",
       "0              HR  70000  70000\n",
       "1              IT  85000  80000\n",
       "2       Marketing  95000  95000"
      ]
     },
     "execution_count": 23,
     "metadata": {},
     "output_type": "execute_result"
    }
   ],
   "source": [
    "max_min_salary = df_merged.groupby('department_name')['salary'].agg(['max','min']).reset_index()\n",
    "max_min_salary"
   ]
  },
  {
   "cell_type": "code",
   "execution_count": 24,
   "id": "2bc6b2fc",
   "metadata": {},
   "outputs": [
    {
     "data": {
      "text/html": [
       "<div>\n",
       "<style scoped>\n",
       "    .dataframe tbody tr th:only-of-type {\n",
       "        vertical-align: middle;\n",
       "    }\n",
       "\n",
       "    .dataframe tbody tr th {\n",
       "        vertical-align: top;\n",
       "    }\n",
       "\n",
       "    .dataframe thead th {\n",
       "        text-align: right;\n",
       "    }\n",
       "</style>\n",
       "<table border=\"1\" class=\"dataframe\">\n",
       "  <thead>\n",
       "    <tr style=\"text-align: right;\">\n",
       "      <th></th>\n",
       "      <th>department_name</th>\n",
       "      <th>avg_years_of_service</th>\n",
       "    </tr>\n",
       "  </thead>\n",
       "  <tbody>\n",
       "    <tr>\n",
       "      <th>0</th>\n",
       "      <td>HR</td>\n",
       "      <td>3.0</td>\n",
       "    </tr>\n",
       "    <tr>\n",
       "      <th>1</th>\n",
       "      <td>IT</td>\n",
       "      <td>5.5</td>\n",
       "    </tr>\n",
       "    <tr>\n",
       "      <th>2</th>\n",
       "      <td>Marketing</td>\n",
       "      <td>1.0</td>\n",
       "    </tr>\n",
       "  </tbody>\n",
       "</table>\n",
       "</div>"
      ],
      "text/plain": [
       "  department_name  avg_years_of_service\n",
       "0              HR                   3.0\n",
       "1              IT                   5.5\n",
       "2       Marketing                   1.0"
      ]
     },
     "execution_count": 24,
     "metadata": {},
     "output_type": "execute_result"
    }
   ],
   "source": [
    "avg_years_service = df_merged.groupby('department_name')['years_of_service'].mean().reset_index()\n",
    "avg_years_service.rename(columns={'years_of_service' : 'avg_years_of_service'},inplace=True)\n",
    "avg_years_service"
   ]
  },
  {
   "cell_type": "code",
   "execution_count": 25,
   "id": "756616da",
   "metadata": {},
   "outputs": [
    {
     "data": {
      "text/html": [
       "<div>\n",
       "<style scoped>\n",
       "    .dataframe tbody tr th:only-of-type {\n",
       "        vertical-align: middle;\n",
       "    }\n",
       "\n",
       "    .dataframe tbody tr th {\n",
       "        vertical-align: top;\n",
       "    }\n",
       "\n",
       "    .dataframe thead th {\n",
       "        text-align: right;\n",
       "    }\n",
       "</style>\n",
       "<table border=\"1\" class=\"dataframe\">\n",
       "  <thead>\n",
       "    <tr style=\"text-align: right;\">\n",
       "      <th></th>\n",
       "      <th>department_name</th>\n",
       "      <th>position</th>\n",
       "      <th>0</th>\n",
       "    </tr>\n",
       "  </thead>\n",
       "  <tbody>\n",
       "    <tr>\n",
       "      <th>0</th>\n",
       "      <td>HR</td>\n",
       "      <td>HR specialist</td>\n",
       "      <td>1</td>\n",
       "    </tr>\n",
       "    <tr>\n",
       "      <th>1</th>\n",
       "      <td>IT</td>\n",
       "      <td>Developer</td>\n",
       "      <td>2</td>\n",
       "    </tr>\n",
       "    <tr>\n",
       "      <th>2</th>\n",
       "      <td>Marketing</td>\n",
       "      <td>Manager</td>\n",
       "      <td>1</td>\n",
       "    </tr>\n",
       "  </tbody>\n",
       "</table>\n",
       "</div>"
      ],
      "text/plain": [
       "  department_name       position  0\n",
       "0              HR  HR specialist  1\n",
       "1              IT      Developer  2\n",
       "2       Marketing        Manager  1"
      ]
     },
     "execution_count": 25,
     "metadata": {},
     "output_type": "execute_result"
    }
   ],
   "source": [
    "position_dist = df_merged.groupby(['department_name', 'position']).size().reset_index()\n",
    "position_dist"
   ]
  },
  {
   "cell_type": "code",
   "execution_count": 26,
   "id": "d0d64e78",
   "metadata": {},
   "outputs": [
    {
     "data": {
      "text/html": [
       "<div>\n",
       "<style scoped>\n",
       "    .dataframe tbody tr th:only-of-type {\n",
       "        vertical-align: middle;\n",
       "    }\n",
       "\n",
       "    .dataframe tbody tr th {\n",
       "        vertical-align: top;\n",
       "    }\n",
       "\n",
       "    .dataframe thead th {\n",
       "        text-align: right;\n",
       "    }\n",
       "</style>\n",
       "<table border=\"1\" class=\"dataframe\">\n",
       "  <thead>\n",
       "    <tr style=\"text-align: right;\">\n",
       "      <th></th>\n",
       "      <th>department_name</th>\n",
       "      <th>median_salary</th>\n",
       "    </tr>\n",
       "  </thead>\n",
       "  <tbody>\n",
       "    <tr>\n",
       "      <th>0</th>\n",
       "      <td>HR</td>\n",
       "      <td>70000.0</td>\n",
       "    </tr>\n",
       "    <tr>\n",
       "      <th>1</th>\n",
       "      <td>IT</td>\n",
       "      <td>82500.0</td>\n",
       "    </tr>\n",
       "    <tr>\n",
       "      <th>2</th>\n",
       "      <td>Marketing</td>\n",
       "      <td>95000.0</td>\n",
       "    </tr>\n",
       "  </tbody>\n",
       "</table>\n",
       "</div>"
      ],
      "text/plain": [
       "  department_name  median_salary\n",
       "0              HR        70000.0\n",
       "1              IT        82500.0\n",
       "2       Marketing        95000.0"
      ]
     },
     "execution_count": 26,
     "metadata": {},
     "output_type": "execute_result"
    }
   ],
   "source": [
    "medain_salary = df_merged.groupby('department_name')['salary'].median().reset_index()\n",
    "medain_salary.rename(columns={'salary':'median_salary'},inplace=True)\n",
    "medain_salary"
   ]
  },
  {
   "cell_type": "code",
   "execution_count": 27,
   "id": "c1e81b76",
   "metadata": {},
   "outputs": [
    {
     "data": {
      "text/html": [
       "<div>\n",
       "<style scoped>\n",
       "    .dataframe tbody tr th:only-of-type {\n",
       "        vertical-align: middle;\n",
       "    }\n",
       "\n",
       "    .dataframe tbody tr th {\n",
       "        vertical-align: top;\n",
       "    }\n",
       "\n",
       "    .dataframe thead th {\n",
       "        text-align: right;\n",
       "    }\n",
       "</style>\n",
       "<table border=\"1\" class=\"dataframe\">\n",
       "  <thead>\n",
       "    <tr style=\"text-align: right;\">\n",
       "      <th></th>\n",
       "      <th>department_name</th>\n",
       "      <th>hired_last_year</th>\n",
       "    </tr>\n",
       "  </thead>\n",
       "  <tbody>\n",
       "    <tr>\n",
       "      <th>0</th>\n",
       "      <td>HR</td>\n",
       "      <td>0</td>\n",
       "    </tr>\n",
       "    <tr>\n",
       "      <th>1</th>\n",
       "      <td>IT</td>\n",
       "      <td>0</td>\n",
       "    </tr>\n",
       "    <tr>\n",
       "      <th>2</th>\n",
       "      <td>Marketing</td>\n",
       "      <td>0</td>\n",
       "    </tr>\n",
       "  </tbody>\n",
       "</table>\n",
       "</div>"
      ],
      "text/plain": [
       "  department_name  hired_last_year\n",
       "0              HR                0\n",
       "1              IT                0\n",
       "2       Marketing                0"
      ]
     },
     "execution_count": 27,
     "metadata": {},
     "output_type": "execute_result"
    }
   ],
   "source": [
    "df_merged['hired_last_year'] = df_merged['hire_date'].dt.year == (pd.to_datetime('today').year-1)\n",
    "hired_last_year_count = df_merged.groupby('department_name')['hired_last_year'].sum().reset_index()\n",
    "hired_last_year_count"
   ]
  },
  {
   "cell_type": "code",
   "execution_count": 28,
   "id": "cde56842",
   "metadata": {},
   "outputs": [
    {
     "name": "stdout",
     "output_type": "stream",
     "text": [
      "  department_name  total_salary  hired_last_year\n",
      "0              HR         70000                0\n",
      "1              IT        165000                0\n",
      "2       Marketing         95000                0\n"
     ]
    }
   ],
   "source": [
    "df_summary = pd.merge(total_salary, max_min_salary, on='department_name', how='left')\n",
    "df_summary = pd.merge(df_summary, avg_years_service, on='department_name', how='left')\n",
    "df_summary = pd.merge(df_summary, medain_salary, on='department_name', how='left')\n",
    "df_summary = pd.merge(total_salary, hired_last_year_count, on='department_name', how='left')\n",
    "print(df_summary)"
   ]
  },
  {
   "cell_type": "code",
   "execution_count": null,
   "id": "267f3fa5",
   "metadata": {},
   "outputs": [],
   "source": []
  }
 ],
 "metadata": {
  "kernelspec": {
   "display_name": "Python 3 (ipykernel)",
   "language": "python",
   "name": "python3"
  },
  "language_info": {
   "codemirror_mode": {
    "name": "ipython",
    "version": 3
   },
   "file_extension": ".py",
   "mimetype": "text/x-python",
   "name": "python",
   "nbconvert_exporter": "python",
   "pygments_lexer": "ipython3",
   "version": "3.11.7"
  }
 },
 "nbformat": 4,
 "nbformat_minor": 5
}
